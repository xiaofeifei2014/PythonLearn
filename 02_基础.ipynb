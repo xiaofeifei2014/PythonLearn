{
 "cells": [
  {
   "cell_type": "markdown",
   "metadata": {},
   "source": [
    "#环境安装\n",
    "-推荐Virtualbox+ubuntu\n",
    "-套件推荐 Anaconda3 + pycharm\n",
    "-如果机器内存大于4G，推荐使用虚拟机\n",
    "-小于4G的话，推荐用Windows下的Anaconda + pycharm"
   ]
  },
  {
   "cell_type": "code",
   "execution_count": 20,
   "metadata": {},
   "outputs": [
    {
     "name": "stdout",
     "output_type": "stream",
     "text": [
      "Hello world\n"
     ]
    }
   ],
   "source": [
    "#代码内容\n",
    "print(\"Hello world\") #打印hello world出来"
   ]
  },
  {
   "cell_type": "markdown",
   "metadata": {},
   "source": [
    "#注释\n",
    "-机器不去执行注释内容\n",
    "-注释一般用自然语言书写\n",
    "-注释的写法\n",
    "    -行注释： 以#号开头，可以单独行，也可以在某行代码后边\n",
    "    -块注释： 好几行代码或者内容，以三个连续单引号或双引号开始和结束，中间任何内容及其都忽略"
   ]
  },
  {
   "cell_type": "markdown",
   "metadata": {},
   "source": [
    "#变量\n",
    "-程序=数据结构\n",
    "-变量就是可以重复使用的一个量，或者叫一个代号\n",
    "-变量命名的规则\n",
    "    - 变量名可以包含数字，大小写字母，下划线或者更多，（不推荐除了前三种内容以外的符号）\n",
    "    - 数组不可以打头\n",
    "            -4man ， 7min  是不可以的\n",
    "        -man4 , min7 是可以的\n",
    "    - 一般在python中，以下划线开头的内容具有特殊含义，不建议使用\n",
    "        -比如：_age ,_name,理论上可以，不推荐\n",
    "    - 大小写不一样\n",
    "        -  ForMan  跟  forMan 不是一个变量名\n",
    "    -  推荐\n",
    "        - 使用具有固定含义的英文单词或者缩写， srv = server， skt = socket\n",
    "        -驼峰命名法\n",
    "    -保留字和关键字\n",
    "        -class, def, break, for\n",
    "    "
   ]
  },
  {
   "cell_type": "code",
   "execution_count": 22,
   "metadata": {},
   "outputs": [
    {
     "name": "stdout",
     "output_type": "stream",
     "text": [
      "['False', 'None', 'True', 'and', 'as', 'assert', 'break', 'class', 'continue', 'def', 'del', 'elif', 'else', 'except', 'finally', 'for', 'from', 'global', 'if', 'import', 'in', 'is', 'lambda', 'nonlocal', 'not', 'or', 'pass', 'raise', 'return', 'try', 'while', 'with', 'yield']\n"
     ]
    }
   ],
   "source": [
    "#查看关键字的方法\n",
    "import keyword  #引入关键字模块\n",
    "#打印系统全部关键字\n",
    "print(keyword.kwlist)"
   ]
  },
  {
   "cell_type": "markdown",
   "metadata": {},
   "source": [
    "## 变量声明\n",
    "- var_name = var_value\n",
    "- var1 = var2 = var3 = var_value\n",
    "- var1,var2,var3 = v1,v2,v3"
   ]
  },
  {
   "cell_type": "code",
   "execution_count": 28,
   "metadata": {},
   "outputs": [
    {
     "name": "stdout",
     "output_type": "stream",
     "text": [
      "18\n",
      "18\n",
      "18\n",
      "18\n",
      "18\n",
      "0.12\n",
      "13\n",
      "14\n"
     ]
    }
   ],
   "source": [
    "#定义变量age,把18放入变量中\n",
    "age = 18\n",
    "print(age)\n",
    "print(18)\n",
    "\n",
    "#给age1, age2, age3 放入同样一个内容或值\n",
    "age1 = age2 = age3 = 18\n",
    "print(age1)\n",
    "print(age2)\n",
    "print(age3)\n",
    "\n",
    "age4,age5,age6 = .12,13,14\n",
    "print(age4)\n",
    "print(age5)\n",
    "print(age6)"
   ]
  },
  {
   "cell_type": "markdown",
   "metadata": {},
   "source": [
    "##变量类型\n",
    "-严格意义上讲，python只有一个类型\n",
    "-标准数据一个六种\n",
    "    -数字类型 Number\n",
    "    -字符串类型 str\n",
    "    -列表 list\n",
    "    -元组 tuple\n",
    "    -字典 Dictionary\n",
    "    -集合 set"
   ]
  },
  {
   "cell_type": "markdown",
   "metadata": {},
   "source": [
    "# Number数字类型\n",
    "-数字类型没有大小限制\n",
    "### 整数\n",
    "    -没有小数部分，\n",
    "    -自然数\n",
    "    -整数分进制\n",
    "        -二进制\n",
    "        -八进制\n",
    "        -十六进制\n",
    "        -十进制\n",
    "### 浮点数\n",
    "    -小数\n",
    "    -计算机里边表示浮点数可以有省略\n",
    "    -3.1415\n",
    "### 复合数\n",
    "    - 一个由实部和虚部构成的数字\n",
    "    - 虚部用 j/J 表示\n",
    "    - 5 + 3j\n",
    "    - 3j\n",
    "    - （3j）\n",
    "### 布尔值\n",
    "    -表示真假的值\n",
    "    -只有两个值，TrueFalse\n",
    "    -布尔值可以跟数字直接操作\n",
    "### 字符串\n",
    "    -用来表示一串文字信息\n",
    "    -如何表示\n",
    "        -单引号\n",
    "        -双引号\n",
    "        -三引号（三个单引号或者三个双引号）\n",
    "            - 能够扩起多行信息\n",
    "    -单双引号交错使用"
   ]
  },
  {
   "cell_type": "code",
   "execution_count": 27,
   "metadata": {},
   "outputs": [
    {
     "name": "stdout",
     "output_type": "stream",
     "text": [
      "<a style = \"color:red\"> 哈哈哈 </a>\n"
     ]
    }
   ],
   "source": [
    "#单双引号交错使用的例子\n",
    "#<a style = \"color:red\"> 哈哈哈 </a>\n",
    "#用引号表示上面字符串\n",
    "html = '''<a style = \"color:red\"> 哈哈哈 </a>'''\n",
    "print(html)"
   ]
  },
  {
   "cell_type": "code",
   "execution_count": null,
   "metadata": {},
   "outputs": [],
   "source": []
  }
 ],
 "metadata": {
  "kernelspec": {
   "display_name": "Python 3",
   "language": "python",
   "name": "python3"
  },
  "language_info": {
   "codemirror_mode": {
    "name": "ipython",
    "version": 3
   },
   "file_extension": ".py",
   "mimetype": "text/x-python",
   "name": "python",
   "nbconvert_exporter": "python",
   "pygments_lexer": "ipython3",
   "version": "3.6.5"
  }
 },
 "nbformat": 4,
 "nbformat_minor": 2
}
